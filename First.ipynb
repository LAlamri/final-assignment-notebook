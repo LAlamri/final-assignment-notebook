{
  "metadata": {
    "kernelspec": {
      "name": "python",
      "display_name": "Python (Pyodide)",
      "language": "python"
    },
    "language_info": {
      "codemirror_mode": {
        "name": "python",
        "version": 3
      },
      "file_extension": ".py",
      "mimetype": "text/x-python",
      "name": "python",
      "nbconvert_exporter": "python",
      "pygments_lexer": "ipython3",
      "version": "3.8"
    }
  },
  "nbformat_minor": 4,
  "nbformat": 4,
  "cells": [
    {
      "cell_type": "markdown",
      "source": " Data Science Tools and Exercises\n",
      "metadata": {}
    },
    {
      "cell_type": "markdown",
      "source": "Introduction\nThis notebook covers various data science tools and languages, along with some exercises that demonstrate basic data manipulation and conversion using Python.\n",
      "metadata": {}
    },
    {
      "cell_type": "markdown",
      "source": "# Data Science Languages\n- Python\n- R\n- SQL\n- Julia\n",
      "metadata": {}
    },
    {
      "cell_type": "markdown",
      "source": "# Data Science Libraries\n- Pandas\n- Numpy\n- Matplotlib\n- Seaborn\n- Scikit-learn",
      "metadata": {}
    },
    {
      "cell_type": "markdown",
      "source": "# Data Science Tools\n| Tool           | Category        |\n|----------------|-----------------|\n| Jupyter Notebooks | IDE           |\n| GitHub          | Version Control|\n| TensorFlow      | Machine Learning|\n| Pandas          | Data Manipulation|\n",
      "metadata": {}
    },
    {
      "cell_type": "markdown",
      "source": "# Arithmetic Expression Examples\nIn this section, we will demonstrate how to use arithmetic operations in Python.\n",
      "metadata": {}
    },
    {
      "cell_type": "code",
      "source": "a = 5\nb = 10\nmultiplication = a * b\naddition = a + b\nmultiplication, addition\n",
      "metadata": {
        "trusted": true
      },
      "outputs": [
        {
          "execution_count": 21,
          "output_type": "execute_result",
          "data": {
            "text/plain": "(50, 15)"
          },
          "metadata": {}
        }
      ],
      "execution_count": 21
    },
    {
      "cell_type": "code",
      "source": "minutes = 120\nhours = minutes / 60\nhours\n",
      "metadata": {
        "trusted": true
      },
      "outputs": [
        {
          "execution_count": 22,
          "output_type": "execute_result",
          "data": {
            "text/plain": "2.0"
          },
          "metadata": {}
        }
      ],
      "execution_count": 22
    },
    {
      "cell_type": "markdown",
      "source": "# Objectives\n- Understand data science tools and libraries.\n- Perform basic arithmetic operations.\n- Learn how to convert units (minutes to hours).\n",
      "metadata": {}
    },
    {
      "cell_type": "markdown",
      "source": "# Author’s Name\nLama\n",
      "metadata": {}
    }
  ]
}